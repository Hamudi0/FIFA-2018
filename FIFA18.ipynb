{
 "cells": [
  {
   "cell_type": "code",
   "execution_count": 1,
   "metadata": {},
   "outputs": [
    {
     "data": {
      "text/html": [
       "<div>\n",
       "<style scoped>\n",
       "    .dataframe tbody tr th:only-of-type {\n",
       "        vertical-align: middle;\n",
       "    }\n",
       "\n",
       "    .dataframe tbody tr th {\n",
       "        vertical-align: top;\n",
       "    }\n",
       "\n",
       "    .dataframe thead th {\n",
       "        text-align: right;\n",
       "    }\n",
       "</style>\n",
       "<table border=\"1\" class=\"dataframe\">\n",
       "  <thead>\n",
       "    <tr style=\"text-align: right;\">\n",
       "      <th></th>\n",
       "      <th>ID</th>\n",
       "      <th>lang</th>\n",
       "      <th>Date</th>\n",
       "      <th>Source</th>\n",
       "      <th>len</th>\n",
       "      <th>Orig_Tweet</th>\n",
       "      <th>Tweet</th>\n",
       "      <th>Likes</th>\n",
       "      <th>RTs</th>\n",
       "      <th>Hashtags</th>\n",
       "      <th>UserMentionNames</th>\n",
       "      <th>UserMentionID</th>\n",
       "      <th>Name</th>\n",
       "      <th>Place</th>\n",
       "      <th>Followers</th>\n",
       "      <th>Friends</th>\n",
       "    </tr>\n",
       "  </thead>\n",
       "  <tbody>\n",
       "    <tr>\n",
       "      <th>0</th>\n",
       "      <td>1013597060640145408</td>\n",
       "      <td>en</td>\n",
       "      <td>2018-07-02 01:35:45</td>\n",
       "      <td>Twitter for Android</td>\n",
       "      <td>140</td>\n",
       "      <td>RT @Squawka: Only two goalkeepers have saved t...</td>\n",
       "      <td>Only two goalkeepers have saved three penaltie...</td>\n",
       "      <td>0</td>\n",
       "      <td>477</td>\n",
       "      <td>WorldCup,POR,ENG</td>\n",
       "      <td>Squawka Football</td>\n",
       "      <td>Squawka</td>\n",
       "      <td>Cayleb</td>\n",
       "      <td>Accra</td>\n",
       "      <td>861</td>\n",
       "      <td>828</td>\n",
       "    </tr>\n",
       "    <tr>\n",
       "      <th>1</th>\n",
       "      <td>1013597056219295744</td>\n",
       "      <td>en</td>\n",
       "      <td>2018-07-02 01:35:44</td>\n",
       "      <td>Twitter for Android</td>\n",
       "      <td>139</td>\n",
       "      <td>RT @FCBarcelona: ?? @ivanrakitic scores the wi...</td>\n",
       "      <td>scores the winning penalty to send into the qu...</td>\n",
       "      <td>0</td>\n",
       "      <td>1031</td>\n",
       "      <td>WorldCup</td>\n",
       "      <td>FC Barcelona,Ivan Rakitic,HNS | CFF</td>\n",
       "      <td>FCBarcelona,ivanrakitic,HNS_CFF</td>\n",
       "      <td>Febri Aditya</td>\n",
       "      <td>Bogor</td>\n",
       "      <td>667</td>\n",
       "      <td>686</td>\n",
       "    </tr>\n",
       "  </tbody>\n",
       "</table>\n",
       "</div>"
      ],
      "text/plain": [
       "                    ID lang                Date               Source  len  \\\n",
       "0  1013597060640145408   en 2018-07-02 01:35:45  Twitter for Android  140   \n",
       "1  1013597056219295744   en 2018-07-02 01:35:44  Twitter for Android  139   \n",
       "\n",
       "                                          Orig_Tweet  \\\n",
       "0  RT @Squawka: Only two goalkeepers have saved t...   \n",
       "1  RT @FCBarcelona: ?? @ivanrakitic scores the wi...   \n",
       "\n",
       "                                               Tweet  Likes   RTs  \\\n",
       "0  Only two goalkeepers have saved three penaltie...      0   477   \n",
       "1  scores the winning penalty to send into the qu...      0  1031   \n",
       "\n",
       "           Hashtags                     UserMentionNames  \\\n",
       "0  WorldCup,POR,ENG                     Squawka Football   \n",
       "1          WorldCup  FC Barcelona,Ivan Rakitic,HNS | CFF   \n",
       "\n",
       "                     UserMentionID          Name  Place  Followers  Friends  \n",
       "0                          Squawka        Cayleb  Accra        861      828  \n",
       "1  FCBarcelona,ivanrakitic,HNS_CFF  Febri Aditya  Bogor        667      686  "
      ]
     },
     "execution_count": 1,
     "metadata": {},
     "output_type": "execute_result"
    }
   ],
   "source": [
    "import pandas as pd\n",
    "import datetime\n",
    "\n",
    "d_parser = lambda x : datetime.datetime.strptime(x, '%Y-%m-%d %H:%M:%S')\n",
    "df = pd.read_csv(\"FIFA.csv\", parse_dates=['Date'], date_parser=d_parser).dropna(how='all')\n",
    "df.head(2)"
   ]
  },
  {
   "cell_type": "code",
   "execution_count": 2,
   "metadata": {},
   "outputs": [
    {
     "data": {
      "text/plain": [
       "(530000, 16)"
      ]
     },
     "execution_count": 2,
     "metadata": {},
     "output_type": "execute_result"
    }
   ],
   "source": [
    "df.shape"
   ]
  },
  {
   "cell_type": "raw",
   "metadata": {},
   "source": [
    "# How many times France was mentioned"
   ]
  },
  {
   "cell_type": "code",
   "execution_count": 63,
   "metadata": {},
   "outputs": [
    {
     "data": {
      "text/plain": [
       "78763"
      ]
     },
     "execution_count": 63,
     "metadata": {},
     "output_type": "execute_result"
    }
   ],
   "source": [
    "filt = df['Orig_Tweet'].str.contains('France')\n",
    "df.loc[filt, 'Orig_Tweet'].count()"
   ]
  },
  {
   "cell_type": "raw",
   "metadata": {},
   "source": [
    "# The place from which the most tweets came from"
   ]
  },
  {
   "cell_type": "code",
   "execution_count": 66,
   "metadata": {},
   "outputs": [
    {
     "data": {
      "text/html": [
       "<div>\n",
       "<style scoped>\n",
       "    .dataframe tbody tr th:only-of-type {\n",
       "        vertical-align: middle;\n",
       "    }\n",
       "\n",
       "    .dataframe tbody tr th {\n",
       "        vertical-align: top;\n",
       "    }\n",
       "\n",
       "    .dataframe thead th {\n",
       "        text-align: right;\n",
       "    }\n",
       "</style>\n",
       "<table border=\"1\" class=\"dataframe\">\n",
       "  <thead>\n",
       "    <tr style=\"text-align: right;\">\n",
       "      <th></th>\n",
       "      <th>No_Of_Tweets</th>\n",
       "    </tr>\n",
       "    <tr>\n",
       "      <th>Place</th>\n",
       "      <th></th>\n",
       "    </tr>\n",
       "  </thead>\n",
       "  <tbody>\n",
       "    <tr>\n",
       "      <th>Lagos, Nigeria</th>\n",
       "      <td>4953</td>\n",
       "    </tr>\n",
       "    <tr>\n",
       "      <th>London, England</th>\n",
       "      <td>4701</td>\n",
       "    </tr>\n",
       "    <tr>\n",
       "      <th>Nigeria</th>\n",
       "      <td>3619</td>\n",
       "    </tr>\n",
       "    <tr>\n",
       "      <th>London</th>\n",
       "      <td>3225</td>\n",
       "    </tr>\n",
       "    <tr>\n",
       "      <th>India</th>\n",
       "      <td>2851</td>\n",
       "    </tr>\n",
       "  </tbody>\n",
       "</table>\n",
       "</div>"
      ],
      "text/plain": [
       "                 No_Of_Tweets\n",
       "Place                        \n",
       "Lagos, Nigeria           4953\n",
       "London, England          4701\n",
       "Nigeria                  3619\n",
       "London                   3225\n",
       "India                    2851"
      ]
     },
     "execution_count": 66,
     "metadata": {},
     "output_type": "execute_result"
    }
   ],
   "source": [
    "df['No_Of_Tweets'] = 1\n",
    "new_df = df[['Place', 'No_Of_Tweets']].groupby('Place').sum()\n",
    "new_df.sort_values(by='No_Of_Tweets', ascending=False, inplace=True)\n",
    "new_df.head(5)"
   ]
  },
  {
   "cell_type": "code",
   "execution_count": 5,
   "metadata": {},
   "outputs": [],
   "source": [
    "df['Date'] = pd.to_datetime(df['Date'])\n",
    "df['Dates'] = df['Date'].dt.date"
   ]
  },
  {
   "cell_type": "raw",
   "metadata": {},
   "source": [
    "#No. of Tweets on the final"
   ]
  },
  {
   "cell_type": "code",
   "execution_count": 71,
   "metadata": {},
   "outputs": [
    {
     "data": {
      "text/plain": [
       "<matplotlib.axes._subplots.AxesSubplot at 0xe6d3538>"
      ]
     },
     "execution_count": 71,
     "metadata": {},
     "output_type": "execute_result"
    },
    {
     "data": {
      "image/png": "[encoded data removed]",
      "text/plain": [
       "<Figure size 864x432 with 1 Axes>"
      ]
     },
     "metadata": {
      "needs_background": "light"
     },
     "output_type": "display_data"
    }
   ],
   "source": [
    "jff = df.groupby('Dates').sum()\n",
    "jff['No_Of_Tweets'].plot(kind='bar', figsize=(12,6), legend = True)"
   ]
  },
  {
   "cell_type": "raw",
   "metadata": {},
   "source": [
    "# The place from which the most tweets on the final came from"
   ]
  },
  {
   "cell_type": "code",
   "execution_count": 72,
   "metadata": {},
   "outputs": [
    {
     "name": "stderr",
     "output_type": "stream",
     "text": [
      "<ipython-input-72-3898a997cf10>:2: SettingWithCopyWarning: \n",
      "A value is trying to be set on a copy of a slice from a DataFrame\n",
      "\n",
      "See the caveats in the documentation: https://pandas.pydata.org/pandas-docs/stable/user_guide/indexing.html#returning-a-view-versus-a-copy\n",
      "  final[['Place', 'No_Of_Tweets']].dropna(how='all', inplace=True)\n"
     ]
    },
    {
     "data": {
      "text/html": [
       "<div>\n",
       "<style scoped>\n",
       "    .dataframe tbody tr th:only-of-type {\n",
       "        vertical-align: middle;\n",
       "    }\n",
       "\n",
       "    .dataframe tbody tr th {\n",
       "        vertical-align: top;\n",
       "    }\n",
       "\n",
       "    .dataframe thead th {\n",
       "        text-align: right;\n",
       "    }\n",
       "</style>\n",
       "<table border=\"1\" class=\"dataframe\">\n",
       "  <thead>\n",
       "    <tr style=\"text-align: right;\">\n",
       "      <th></th>\n",
       "      <th>No_Of_Tweets</th>\n",
       "    </tr>\n",
       "    <tr>\n",
       "      <th>Place</th>\n",
       "      <th></th>\n",
       "    </tr>\n",
       "  </thead>\n",
       "  <tbody>\n",
       "    <tr>\n",
       "      <th>Lagos, Nigeria</th>\n",
       "      <td>1604</td>\n",
       "    </tr>\n",
       "    <tr>\n",
       "      <th>India</th>\n",
       "      <td>1287</td>\n",
       "    </tr>\n",
       "    <tr>\n",
       "      <th>London, England</th>\n",
       "      <td>1281</td>\n",
       "    </tr>\n",
       "    <tr>\n",
       "      <th>Nigeria</th>\n",
       "      <td>1209</td>\n",
       "    </tr>\n",
       "    <tr>\n",
       "      <th>Malaysia</th>\n",
       "      <td>1020</td>\n",
       "    </tr>\n",
       "  </tbody>\n",
       "</table>\n",
       "</div>"
      ],
      "text/plain": [
       "                 No_Of_Tweets\n",
       "Place                        \n",
       "Lagos, Nigeria           1604\n",
       "India                    1287\n",
       "London, England          1281\n",
       "Nigeria                  1209\n",
       "Malaysia                 1020"
      ]
     },
     "execution_count": 72,
     "metadata": {},
     "output_type": "execute_result"
    }
   ],
   "source": [
    "final = df.copy()['2018-7-15']\n",
    "final[['Place', 'No_Of_Tweets']].dropna(how='all', inplace=True)\n",
    "sums = final[['Place', 'No_Of_Tweets']].groupby('Place').sum()\n",
    "sums.sort_values(by='No_Of_Tweets', ascending=False, inplace=True)\n",
    "sums.head(5)"
   ]
  },
  {
   "cell_type": "code",
   "execution_count": 37,
   "metadata": {},
   "outputs": [
    {
     "data": {
      "text/html": [
       "<div>\n",
       "<style scoped>\n",
       "    .dataframe tbody tr th:only-of-type {\n",
       "        vertical-align: middle;\n",
       "    }\n",
       "\n",
       "    .dataframe tbody tr th {\n",
       "        vertical-align: top;\n",
       "    }\n",
       "\n",
       "    .dataframe thead th {\n",
       "        text-align: right;\n",
       "    }\n",
       "</style>\n",
       "<table border=\"1\" class=\"dataframe\">\n",
       "  <thead>\n",
       "    <tr style=\"text-align: right;\">\n",
       "      <th></th>\n",
       "      <th>ID</th>\n",
       "      <th>lang</th>\n",
       "      <th>Source</th>\n",
       "      <th>len</th>\n",
       "      <th>Orig_Tweet</th>\n",
       "      <th>Tweet</th>\n",
       "      <th>Likes</th>\n",
       "      <th>RTs</th>\n",
       "      <th>Hashtags</th>\n",
       "      <th>UserMentionNames</th>\n",
       "      <th>UserMentionID</th>\n",
       "      <th>Name</th>\n",
       "      <th>Place</th>\n",
       "      <th>Followers</th>\n",
       "      <th>Friends</th>\n",
       "      <th>No_Of_Tweets</th>\n",
       "      <th>Dates</th>\n",
       "    </tr>\n",
       "    <tr>\n",
       "      <th>Date</th>\n",
       "      <th></th>\n",
       "      <th></th>\n",
       "      <th></th>\n",
       "      <th></th>\n",
       "      <th></th>\n",
       "      <th></th>\n",
       "      <th></th>\n",
       "      <th></th>\n",
       "      <th></th>\n",
       "      <th></th>\n",
       "      <th></th>\n",
       "      <th></th>\n",
       "      <th></th>\n",
       "      <th></th>\n",
       "      <th></th>\n",
       "      <th></th>\n",
       "      <th></th>\n",
       "    </tr>\n",
       "  </thead>\n",
       "  <tbody>\n",
       "    <tr>\n",
       "      <th>2018-06-29 23:56:26</th>\n",
       "      <td>1012847289696600064</td>\n",
       "      <td>en</td>\n",
       "      <td>Twitter for Android</td>\n",
       "      <td>140</td>\n",
       "      <td>RT @MesutOzil1088: Having to leave the World C...</td>\n",
       "      <td>Having to leave the World Cup already after th...</td>\n",
       "      <td>0</td>\n",
       "      <td>4677</td>\n",
       "      <td>NaN</td>\n",
       "      <td>Mesut Özil</td>\n",
       "      <td>MesutOzil1088</td>\n",
       "      <td>ffieqa</td>\n",
       "      <td>Malaysia</td>\n",
       "      <td>268</td>\n",
       "      <td>183</td>\n",
       "      <td>1</td>\n",
       "      <td>2018-06-29</td>\n",
       "    </tr>\n",
       "    <tr>\n",
       "      <th>2018-06-29 23:56:26</th>\n",
       "      <td>1012847291357515777</td>\n",
       "      <td>en</td>\n",
       "      <td>Twitter for Android</td>\n",
       "      <td>140</td>\n",
       "      <td>RT @FIFAWorldCup: So...\\r\\n\\r\\n#URUPOR ????\\r\\...</td>\n",
       "      <td>So Exci</td>\n",
       "      <td>0</td>\n",
       "      <td>16806</td>\n",
       "      <td>URUPOR,ESPRUS,FRAARG,CRODEN,BRAMEX,SWESUI,BELJ...</td>\n",
       "      <td>FIFA World Cup ?</td>\n",
       "      <td>FIFAWorldCup</td>\n",
       "      <td>Dwi Syafitri Irfan</td>\n",
       "      <td>London, England</td>\n",
       "      <td>385</td>\n",
       "      <td>158</td>\n",
       "      <td>1</td>\n",
       "      <td>2018-06-29</td>\n",
       "    </tr>\n",
       "    <tr>\n",
       "      <th>2018-06-29 23:56:27</th>\n",
       "      <td>1012847293932830720</td>\n",
       "      <td>en</td>\n",
       "      <td>Twitter Lite</td>\n",
       "      <td>119</td>\n",
       "      <td>RT @ViluexoSoo: @FIFAWorldCup #PowerByEXO  of ...</td>\n",
       "      <td>of Po Favor</td>\n",
       "      <td>0</td>\n",
       "      <td>42</td>\n",
       "      <td>PowerByEXO,WorldCup,FIFAStadiumDJ</td>\n",
       "      <td>Eve ?EXO,FIFA World Cup ?,EXO,FIFA World Cup ?</td>\n",
       "      <td>ViluexoSoo,FIFAWorldCup,weareoneEXO,FIFAWorldCup</td>\n",
       "      <td>dasliana</td>\n",
       "      <td>NaN</td>\n",
       "      <td>112</td>\n",
       "      <td>212</td>\n",
       "      <td>1</td>\n",
       "      <td>2018-06-29</td>\n",
       "    </tr>\n",
       "  </tbody>\n",
       "</table>\n",
       "</div>"
      ],
      "text/plain": [
       "                                      ID lang               Source  len  \\\n",
       "Date                                                                      \n",
       "2018-06-29 23:56:26  1012847289696600064   en  Twitter for Android  140   \n",
       "2018-06-29 23:56:26  1012847291357515777   en  Twitter for Android  140   \n",
       "2018-06-29 23:56:27  1012847293932830720   en         Twitter Lite  119   \n",
       "\n",
       "                                                            Orig_Tweet  \\\n",
       "Date                                                                     \n",
       "2018-06-29 23:56:26  RT @MesutOzil1088: Having to leave the World C...   \n",
       "2018-06-29 23:56:26  RT @FIFAWorldCup: So...\\r\\n\\r\\n#URUPOR ????\\r\\...   \n",
       "2018-06-29 23:56:27  RT @ViluexoSoo: @FIFAWorldCup #PowerByEXO  of ...   \n",
       "\n",
       "                                                                 Tweet  Likes  \\\n",
       "Date                                                                            \n",
       "2018-06-29 23:56:26  Having to leave the World Cup already after th...      0   \n",
       "2018-06-29 23:56:26                                            So Exci      0   \n",
       "2018-06-29 23:56:27                                        of Po Favor      0   \n",
       "\n",
       "                       RTs                                           Hashtags  \\\n",
       "Date                                                                            \n",
       "2018-06-29 23:56:26   4677                                                NaN   \n",
       "2018-06-29 23:56:26  16806  URUPOR,ESPRUS,FRAARG,CRODEN,BRAMEX,SWESUI,BELJ...   \n",
       "2018-06-29 23:56:27     42                  PowerByEXO,WorldCup,FIFAStadiumDJ   \n",
       "\n",
       "                                                   UserMentionNames  \\\n",
       "Date                                                                  \n",
       "2018-06-29 23:56:26                                      Mesut Özil   \n",
       "2018-06-29 23:56:26                                FIFA World Cup ?   \n",
       "2018-06-29 23:56:27  Eve ?EXO,FIFA World Cup ?,EXO,FIFA World Cup ?   \n",
       "\n",
       "                                                        UserMentionID  \\\n",
       "Date                                                                    \n",
       "2018-06-29 23:56:26                                     MesutOzil1088   \n",
       "2018-06-29 23:56:26                                      FIFAWorldCup   \n",
       "2018-06-29 23:56:27  ViluexoSoo,FIFAWorldCup,weareoneEXO,FIFAWorldCup   \n",
       "\n",
       "                                   Name            Place  Followers  Friends  \\\n",
       "Date                                                                           \n",
       "2018-06-29 23:56:26              ffieqa         Malaysia        268      183   \n",
       "2018-06-29 23:56:26  Dwi Syafitri Irfan  London, England        385      158   \n",
       "2018-06-29 23:56:27            dasliana              NaN        112      212   \n",
       "\n",
       "                     No_Of_Tweets       Dates  \n",
       "Date                                           \n",
       "2018-06-29 23:56:26             1  2018-06-29  \n",
       "2018-06-29 23:56:26             1  2018-06-29  \n",
       "2018-06-29 23:56:27             1  2018-06-29  "
      ]
     },
     "execution_count": 37,
     "metadata": {},
     "output_type": "execute_result"
    }
   ],
   "source": [
    "df.set_index('Date', inplace=True)\n",
    "df.sort_index(inplace=True)\n",
    "df.head(3)"
   ]
  },
  {
   "cell_type": "raw",
   "metadata": {},
   "source": [
    "# What the people who tweeted on the final mostly used to tweet"
   ]
  },
  {
   "cell_type": "code",
   "execution_count": 84,
   "metadata": {},
   "outputs": [
    {
     "data": {
      "text/html": [
       "<div>\n",
       "<style scoped>\n",
       "    .dataframe tbody tr th:only-of-type {\n",
       "        vertical-align: middle;\n",
       "    }\n",
       "\n",
       "    .dataframe tbody tr th {\n",
       "        vertical-align: top;\n",
       "    }\n",
       "\n",
       "    .dataframe thead th {\n",
       "        text-align: right;\n",
       "    }\n",
       "</style>\n",
       "<table border=\"1\" class=\"dataframe\">\n",
       "  <thead>\n",
       "    <tr style=\"text-align: right;\">\n",
       "      <th></th>\n",
       "      <th>No_Of_Tweets</th>\n",
       "    </tr>\n",
       "    <tr>\n",
       "      <th>Source</th>\n",
       "      <th></th>\n",
       "    </tr>\n",
       "  </thead>\n",
       "  <tbody>\n",
       "    <tr>\n",
       "      <th>Twitter for Android</th>\n",
       "      <td>78573</td>\n",
       "    </tr>\n",
       "    <tr>\n",
       "      <th>Twitter for iPhone</th>\n",
       "      <td>75290</td>\n",
       "    </tr>\n",
       "    <tr>\n",
       "      <th>Twitter Web Client</th>\n",
       "      <td>11260</td>\n",
       "    </tr>\n",
       "    <tr>\n",
       "      <th>Twitter Lite</th>\n",
       "      <td>6957</td>\n",
       "    </tr>\n",
       "    <tr>\n",
       "      <th>Twitter for iPad</th>\n",
       "      <td>2506</td>\n",
       "    </tr>\n",
       "  </tbody>\n",
       "</table>\n",
       "</div>"
      ],
      "text/plain": [
       "                     No_Of_Tweets\n",
       "Source                           \n",
       "Twitter for Android         78573\n",
       "Twitter for iPhone          75290\n",
       "Twitter Web Client          11260\n",
       "Twitter Lite                 6957\n",
       "Twitter for iPad             2506"
      ]
     },
     "execution_count": 84,
     "metadata": {},
     "output_type": "execute_result"
    }
   ],
   "source": [
    "final[['Source', 'No_Of_Tweets']].groupby('Source').sum().sort_values(by='No_Of_Tweets', ascending=False).head()"
   ]
  },
  {
   "cell_type": "code",
   "execution_count": null,
   "metadata": {},
   "outputs": [],
   "source": []
  }
 ],
 "metadata": {
  "kernelspec": {
   "display_name": "Python 3",
   "language": "python",
   "name": "python3"
  },
  "language_info": {
   "codemirror_mode": {
    "name": "ipython",
    "version": 3
   },
   "file_extension": ".py",
   "mimetype": "text/x-python",
   "name": "python",
   "nbconvert_exporter": "python",
   "pygments_lexer": "ipython3",
   "version": "3.8.2"
  }
 },
 "nbformat": 4,
 "nbformat_minor": 4
}
